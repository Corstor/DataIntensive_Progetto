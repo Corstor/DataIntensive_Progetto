{
 "cells": [
  {
   "attachments": {},
   "cell_type": "markdown",
   "metadata": {
    "slideshow": {
     "slide_type": "slide"
    }
   },
   "source": [
    "# Predire emozioni di una canzone\n",
    "\n",
    "**Progetto di Programmazione di Applicazioni Data Intensive**   \n",
    "Laurea in Ingegneria e Scienze Informatiche  \n",
    "DISI - Università di Bologna, Cesena\n",
    "\n",
    "Studente Corrado Stortini   \n",
    "`corrado.stortini2@studio.unibo.it`"
   ]
  },
  {
   "attachments": {},
   "cell_type": "markdown",
   "metadata": {},
   "source": [
    "## Setup\n",
    "\n",
    "- Importare i package necessari"
   ]
  },
  {
   "cell_type": "code",
   "execution_count": 2,
   "metadata": {},
   "outputs": [],
   "source": [
    "import numpy as np\n",
    "import pandas as pd\n",
    "import matplotlib.pyplot as plt\n",
    "import sklearn\n",
    "%matplotlib inline"
   ]
  },
  {
   "attachments": {},
   "cell_type": "markdown",
   "metadata": {},
   "source": [
    "## Introduzione\n",
    "\n",
    "- L'obbiettivo è quello di classificare le canzoni in base a quale emozioni suscitano negli utenti che le ascoltano\n",
    "    - 0 -> Triste\n",
    "    - 1 -> Felice\n",
    "    - 2 -> Energetica\n",
    "    - 3 -> Calma\n",
    "- Il dataset usato è _278k Emotion Labeled Spotify Songs_, reperibile su [_Kaggle_](https://www.kaggle.com/datasets/abdullahorzan/moodify-dataset)\n",
    "- Il dataset completo è composto da 12 variabili, di cui 1 di target (*label*)\n"
   ]
  },
  {
   "cell_type": "code",
   "execution_count": 3,
   "metadata": {},
   "outputs": [
    {
     "data": {
      "text/html": [
       "<div>\n",
       "<style scoped>\n",
       "    .dataframe tbody tr th:only-of-type {\n",
       "        vertical-align: middle;\n",
       "    }\n",
       "\n",
       "    .dataframe tbody tr th {\n",
       "        vertical-align: top;\n",
       "    }\n",
       "\n",
       "    .dataframe thead th {\n",
       "        text-align: right;\n",
       "    }\n",
       "</style>\n",
       "<table border=\"1\" class=\"dataframe\">\n",
       "  <thead>\n",
       "    <tr style=\"text-align: right;\">\n",
       "      <th></th>\n",
       "      <th>duration (ms)</th>\n",
       "      <th>danceability</th>\n",
       "      <th>energy</th>\n",
       "      <th>loudness</th>\n",
       "      <th>speechiness</th>\n",
       "      <th>acousticness</th>\n",
       "      <th>instrumentalness</th>\n",
       "      <th>liveness</th>\n",
       "      <th>valence</th>\n",
       "      <th>tempo</th>\n",
       "      <th>spec_rate</th>\n",
       "      <th>labels</th>\n",
       "    </tr>\n",
       "  </thead>\n",
       "  <tbody>\n",
       "    <tr>\n",
       "      <th>0</th>\n",
       "      <td>195000.0</td>\n",
       "      <td>0.611</td>\n",
       "      <td>0.614</td>\n",
       "      <td>-8.815</td>\n",
       "      <td>0.0672</td>\n",
       "      <td>0.0169</td>\n",
       "      <td>0.000794</td>\n",
       "      <td>0.7530</td>\n",
       "      <td>0.520</td>\n",
       "      <td>128.050</td>\n",
       "      <td>3.446154e-07</td>\n",
       "      <td>2</td>\n",
       "    </tr>\n",
       "    <tr>\n",
       "      <th>1</th>\n",
       "      <td>194641.0</td>\n",
       "      <td>0.638</td>\n",
       "      <td>0.781</td>\n",
       "      <td>-6.848</td>\n",
       "      <td>0.0285</td>\n",
       "      <td>0.0118</td>\n",
       "      <td>0.009530</td>\n",
       "      <td>0.3490</td>\n",
       "      <td>0.250</td>\n",
       "      <td>122.985</td>\n",
       "      <td>1.464234e-07</td>\n",
       "      <td>1</td>\n",
       "    </tr>\n",
       "    <tr>\n",
       "      <th>2</th>\n",
       "      <td>217573.0</td>\n",
       "      <td>0.560</td>\n",
       "      <td>0.810</td>\n",
       "      <td>-8.029</td>\n",
       "      <td>0.0872</td>\n",
       "      <td>0.0071</td>\n",
       "      <td>0.000008</td>\n",
       "      <td>0.2410</td>\n",
       "      <td>0.247</td>\n",
       "      <td>170.044</td>\n",
       "      <td>4.007850e-07</td>\n",
       "      <td>1</td>\n",
       "    </tr>\n",
       "    <tr>\n",
       "      <th>3</th>\n",
       "      <td>443478.0</td>\n",
       "      <td>0.525</td>\n",
       "      <td>0.699</td>\n",
       "      <td>-4.571</td>\n",
       "      <td>0.0353</td>\n",
       "      <td>0.0178</td>\n",
       "      <td>0.000088</td>\n",
       "      <td>0.0888</td>\n",
       "      <td>0.199</td>\n",
       "      <td>92.011</td>\n",
       "      <td>7.959809e-08</td>\n",
       "      <td>0</td>\n",
       "    </tr>\n",
       "    <tr>\n",
       "      <th>4</th>\n",
       "      <td>225862.0</td>\n",
       "      <td>0.367</td>\n",
       "      <td>0.771</td>\n",
       "      <td>-5.863</td>\n",
       "      <td>0.1060</td>\n",
       "      <td>0.3650</td>\n",
       "      <td>0.000001</td>\n",
       "      <td>0.0965</td>\n",
       "      <td>0.163</td>\n",
       "      <td>115.917</td>\n",
       "      <td>4.693131e-07</td>\n",
       "      <td>1</td>\n",
       "    </tr>\n",
       "    <tr>\n",
       "      <th>5</th>\n",
       "      <td>166920.0</td>\n",
       "      <td>0.572</td>\n",
       "      <td>0.837</td>\n",
       "      <td>-7.876</td>\n",
       "      <td>0.0367</td>\n",
       "      <td>0.0197</td>\n",
       "      <td>0.000000</td>\n",
       "      <td>0.1630</td>\n",
       "      <td>0.627</td>\n",
       "      <td>100.343</td>\n",
       "      <td>2.198658e-07</td>\n",
       "      <td>1</td>\n",
       "    </tr>\n",
       "    <tr>\n",
       "      <th>6</th>\n",
       "      <td>193133.0</td>\n",
       "      <td>0.725</td>\n",
       "      <td>0.687</td>\n",
       "      <td>-6.465</td>\n",
       "      <td>0.0596</td>\n",
       "      <td>0.6940</td>\n",
       "      <td>0.000369</td>\n",
       "      <td>0.2310</td>\n",
       "      <td>0.770</td>\n",
       "      <td>96.005</td>\n",
       "      <td>3.085956e-07</td>\n",
       "      <td>1</td>\n",
       "    </tr>\n",
       "    <tr>\n",
       "      <th>7</th>\n",
       "      <td>253000.0</td>\n",
       "      <td>0.675</td>\n",
       "      <td>0.547</td>\n",
       "      <td>-4.999</td>\n",
       "      <td>0.0481</td>\n",
       "      <td>0.1140</td>\n",
       "      <td>0.000080</td>\n",
       "      <td>0.0678</td>\n",
       "      <td>0.365</td>\n",
       "      <td>75.003</td>\n",
       "      <td>1.901186e-07</td>\n",
       "      <td>1</td>\n",
       "    </tr>\n",
       "    <tr>\n",
       "      <th>8</th>\n",
       "      <td>216187.0</td>\n",
       "      <td>0.516</td>\n",
       "      <td>0.692</td>\n",
       "      <td>-4.842</td>\n",
       "      <td>0.0279</td>\n",
       "      <td>0.0875</td>\n",
       "      <td>0.009300</td>\n",
       "      <td>0.0900</td>\n",
       "      <td>0.181</td>\n",
       "      <td>83.571</td>\n",
       "      <td>1.290549e-07</td>\n",
       "      <td>0</td>\n",
       "    </tr>\n",
       "    <tr>\n",
       "      <th>9</th>\n",
       "      <td>232333.0</td>\n",
       "      <td>0.548</td>\n",
       "      <td>0.509</td>\n",
       "      <td>-7.937</td>\n",
       "      <td>0.0288</td>\n",
       "      <td>0.2610</td>\n",
       "      <td>0.702000</td>\n",
       "      <td>0.0790</td>\n",
       "      <td>0.484</td>\n",
       "      <td>78.974</td>\n",
       "      <td>1.239600e-07</td>\n",
       "      <td>0</td>\n",
       "    </tr>\n",
       "  </tbody>\n",
       "</table>\n",
       "</div>"
      ],
      "text/plain": [
       "   duration (ms)  danceability  energy  loudness  speechiness  acousticness  \\\n",
       "0       195000.0         0.611   0.614    -8.815       0.0672        0.0169   \n",
       "1       194641.0         0.638   0.781    -6.848       0.0285        0.0118   \n",
       "2       217573.0         0.560   0.810    -8.029       0.0872        0.0071   \n",
       "3       443478.0         0.525   0.699    -4.571       0.0353        0.0178   \n",
       "4       225862.0         0.367   0.771    -5.863       0.1060        0.3650   \n",
       "5       166920.0         0.572   0.837    -7.876       0.0367        0.0197   \n",
       "6       193133.0         0.725   0.687    -6.465       0.0596        0.6940   \n",
       "7       253000.0         0.675   0.547    -4.999       0.0481        0.1140   \n",
       "8       216187.0         0.516   0.692    -4.842       0.0279        0.0875   \n",
       "9       232333.0         0.548   0.509    -7.937       0.0288        0.2610   \n",
       "\n",
       "   instrumentalness  liveness  valence    tempo     spec_rate  labels  \n",
       "0          0.000794    0.7530    0.520  128.050  3.446154e-07       2  \n",
       "1          0.009530    0.3490    0.250  122.985  1.464234e-07       1  \n",
       "2          0.000008    0.2410    0.247  170.044  4.007850e-07       1  \n",
       "3          0.000088    0.0888    0.199   92.011  7.959809e-08       0  \n",
       "4          0.000001    0.0965    0.163  115.917  4.693131e-07       1  \n",
       "5          0.000000    0.1630    0.627  100.343  2.198658e-07       1  \n",
       "6          0.000369    0.2310    0.770   96.005  3.085956e-07       1  \n",
       "7          0.000080    0.0678    0.365   75.003  1.901186e-07       1  \n",
       "8          0.009300    0.0900    0.181   83.571  1.290549e-07       0  \n",
       "9          0.702000    0.0790    0.484   78.974  1.239600e-07       0  "
      ]
     },
     "execution_count": 3,
     "metadata": {},
     "output_type": "execute_result"
    }
   ],
   "source": [
    "songs = pd.read_csv(\"278k_song_labelled.csv\", index_col=\"Unnamed: 0\")\n",
    "songs.head(10)"
   ]
  },
  {
   "attachments": {},
   "cell_type": "markdown",
   "metadata": {
    "slideshow": {
     "slide_type": "slide"
    }
   },
   "source": [
    "## Spiegazione attributi\n",
    "\n",
    "- *duration (ms)* è la durata in millisecondi della traccia\n",
    "- *danceability* è un valore compreso tra 0 e 1 che riporta la \"danzabilità\" di una traccia, valori più alti indicano una traccia più danzabile (potrebbe essere legata alla variabile *tempo*)\n",
    "- *energy* indica una misura di intensità e attività percepiti. Tipicamente tracce energetiche sono veloci, forti e rumorose, per esempio come la musica Metal\n",
    "- *loudness* è il volume della traccia audio, i valori vanno da -60 a 0 db. Questi valori sono la media del volume audio di tutta la traccia.\n",
    "- *speechiness* indica la quantità di parole cantate in una traccia. Più una traccia sarà parlata (per esempio un audiolibro o una poesia) più il valore si avvicinerà ad 1.\n",
    "- *acousticness* indica il livello di acustica nella traccia. Valori vicini ad 1 indicano un'alta probabilità che la traccia sia acustica.\n",
    "- *instrumentalness* indica se una traccia non contiene voce. Più il valore è vicino ad 1, più è probabile che la traccia non contenga voce. Valori sopra a 0.5 indicano che potrebbe essere priva di voce, ma più sono alti più è questa probabilità.\n",
    "- *liveness* è la probabilità che la traccia sia in diretta, in base a quanto si sente la presenza di un pubblico. Valori sopra al 0.8 indicano una altissima probabilità che la traccia sia in diretta.\n",
    "-  *valence* indica generalmente quanto è positiva una traccia. Valori alti indicano una valenza positiva (felice, gioiosa, euforica) e valori bassi indicano una valenza negativa (triste, arrabiata, depressa)\n",
    "- *tempo* è la durata media dei battiti in una canzone.\n",
    "- *spec_rate* è un'informazione generale sulla voce nella traccia (sarà probabilmente legato a *speechiness*)\n",
    "\n",
    "Non ci sono dati mancanti o errati nel dataset come riportato nelle statistiche sul [sito](https://www.kaggle.com/datasets/abdullahorzan/moodify-dataset)\n",
    "\n",
    "Un identificativo numerico è utilizzato come indice per le righe"
   ]
  },
  {
   "attachments": {},
   "cell_type": "markdown",
   "metadata": {},
   "source": [
    "## Esplorazione Dataset\n",
    "\n",
    "- Come prima cosa da fare, creaiamo train e data set"
   ]
  },
  {
   "cell_type": "code",
   "execution_count": 4,
   "metadata": {},
   "outputs": [],
   "source": [
    "from sklearn.model_selection import train_test_split\n",
    "\n",
    "X_train, X_val, y_train, y_val = train_test_split(\n",
    "    songs.drop(columns=[\"labels\"], axis=1), songs[\"labels\"],\n",
    "    test_size=1/3,\n",
    "    random_state=23\n",
    ")"
   ]
  },
  {
   "attachments": {},
   "cell_type": "markdown",
   "metadata": {},
   "source": [
    "- Diamo ora un'occhiata a varie statistiche generali nel dataset come media, numero di istanze e così via."
   ]
  },
  {
   "cell_type": "code",
   "execution_count": 5,
   "metadata": {},
   "outputs": [
    {
     "data": {
      "text/html": [
       "<div>\n",
       "<style scoped>\n",
       "    .dataframe tbody tr th:only-of-type {\n",
       "        vertical-align: middle;\n",
       "    }\n",
       "\n",
       "    .dataframe tbody tr th {\n",
       "        vertical-align: top;\n",
       "    }\n",
       "\n",
       "    .dataframe thead th {\n",
       "        text-align: right;\n",
       "    }\n",
       "</style>\n",
       "<table border=\"1\" class=\"dataframe\">\n",
       "  <thead>\n",
       "    <tr style=\"text-align: right;\">\n",
       "      <th></th>\n",
       "      <th>duration (ms)</th>\n",
       "      <th>danceability</th>\n",
       "      <th>energy</th>\n",
       "      <th>loudness</th>\n",
       "      <th>speechiness</th>\n",
       "      <th>acousticness</th>\n",
       "      <th>instrumentalness</th>\n",
       "      <th>liveness</th>\n",
       "      <th>valence</th>\n",
       "      <th>tempo</th>\n",
       "      <th>spec_rate</th>\n",
       "    </tr>\n",
       "  </thead>\n",
       "  <tbody>\n",
       "    <tr>\n",
       "      <th>count</th>\n",
       "      <td>1.852920e+05</td>\n",
       "      <td>185292.000000</td>\n",
       "      <td>185292.000000</td>\n",
       "      <td>185292.000000</td>\n",
       "      <td>185292.000000</td>\n",
       "      <td>185292.000000</td>\n",
       "      <td>185292.000000</td>\n",
       "      <td>185292.000000</td>\n",
       "      <td>185292.000000</td>\n",
       "      <td>185292.000000</td>\n",
       "      <td>1.852920e+05</td>\n",
       "    </tr>\n",
       "    <tr>\n",
       "      <th>mean</th>\n",
       "      <td>2.326443e+05</td>\n",
       "      <td>0.552738</td>\n",
       "      <td>0.557183</td>\n",
       "      <td>-10.366698</td>\n",
       "      <td>0.087808</td>\n",
       "      <td>0.385841</td>\n",
       "      <td>0.254647</td>\n",
       "      <td>0.189181</td>\n",
       "      <td>0.449714</td>\n",
       "      <td>119.211747</td>\n",
       "      <td>4.736415e-07</td>\n",
       "    </tr>\n",
       "    <tr>\n",
       "      <th>std</th>\n",
       "      <td>1.173501e+05</td>\n",
       "      <td>0.188920</td>\n",
       "      <td>0.279628</td>\n",
       "      <td>6.688214</td>\n",
       "      <td>0.112253</td>\n",
       "      <td>0.363994</td>\n",
       "      <td>0.373593</td>\n",
       "      <td>0.163628</td>\n",
       "      <td>0.267415</td>\n",
       "      <td>30.464650</td>\n",
       "      <td>9.181183e-07</td>\n",
       "    </tr>\n",
       "    <tr>\n",
       "      <th>min</th>\n",
       "      <td>6.706000e+03</td>\n",
       "      <td>0.000000</td>\n",
       "      <td>0.000000</td>\n",
       "      <td>-60.000000</td>\n",
       "      <td>0.000000</td>\n",
       "      <td>0.000000</td>\n",
       "      <td>0.000000</td>\n",
       "      <td>0.000000</td>\n",
       "      <td>0.000000</td>\n",
       "      <td>0.000000</td>\n",
       "      <td>0.000000e+00</td>\n",
       "    </tr>\n",
       "    <tr>\n",
       "      <th>25%</th>\n",
       "      <td>1.720930e+05</td>\n",
       "      <td>0.432000</td>\n",
       "      <td>0.342750</td>\n",
       "      <td>-12.745000</td>\n",
       "      <td>0.035900</td>\n",
       "      <td>0.034000</td>\n",
       "      <td>0.000000</td>\n",
       "      <td>0.096200</td>\n",
       "      <td>0.220000</td>\n",
       "      <td>95.067000</td>\n",
       "      <td>1.532238e-07</td>\n",
       "    </tr>\n",
       "    <tr>\n",
       "      <th>50%</th>\n",
       "      <td>2.131070e+05</td>\n",
       "      <td>0.571000</td>\n",
       "      <td>0.592000</td>\n",
       "      <td>-8.391000</td>\n",
       "      <td>0.047100</td>\n",
       "      <td>0.262000</td>\n",
       "      <td>0.001060</td>\n",
       "      <td>0.120000</td>\n",
       "      <td>0.434000</td>\n",
       "      <td>119.950000</td>\n",
       "      <td>2.342706e-07</td>\n",
       "    </tr>\n",
       "    <tr>\n",
       "      <th>75%</th>\n",
       "      <td>2.649810e+05</td>\n",
       "      <td>0.693000</td>\n",
       "      <td>0.792000</td>\n",
       "      <td>-5.838000</td>\n",
       "      <td>0.082100</td>\n",
       "      <td>0.752000</td>\n",
       "      <td>0.643000</td>\n",
       "      <td>0.227000</td>\n",
       "      <td>0.665000</td>\n",
       "      <td>138.944000</td>\n",
       "      <td>4.435727e-07</td>\n",
       "    </tr>\n",
       "    <tr>\n",
       "      <th>max</th>\n",
       "      <td>3.919895e+06</td>\n",
       "      <td>0.989000</td>\n",
       "      <td>1.000000</td>\n",
       "      <td>4.882000</td>\n",
       "      <td>0.965000</td>\n",
       "      <td>0.996000</td>\n",
       "      <td>1.000000</td>\n",
       "      <td>1.000000</td>\n",
       "      <td>1.000000</td>\n",
       "      <td>244.947000</td>\n",
       "      <td>5.971860e-05</td>\n",
       "    </tr>\n",
       "  </tbody>\n",
       "</table>\n",
       "</div>"
      ],
      "text/plain": [
       "       duration (ms)   danceability         energy       loudness  \\\n",
       "count   1.852920e+05  185292.000000  185292.000000  185292.000000   \n",
       "mean    2.326443e+05       0.552738       0.557183     -10.366698   \n",
       "std     1.173501e+05       0.188920       0.279628       6.688214   \n",
       "min     6.706000e+03       0.000000       0.000000     -60.000000   \n",
       "25%     1.720930e+05       0.432000       0.342750     -12.745000   \n",
       "50%     2.131070e+05       0.571000       0.592000      -8.391000   \n",
       "75%     2.649810e+05       0.693000       0.792000      -5.838000   \n",
       "max     3.919895e+06       0.989000       1.000000       4.882000   \n",
       "\n",
       "         speechiness   acousticness  instrumentalness       liveness  \\\n",
       "count  185292.000000  185292.000000     185292.000000  185292.000000   \n",
       "mean        0.087808       0.385841          0.254647       0.189181   \n",
       "std         0.112253       0.363994          0.373593       0.163628   \n",
       "min         0.000000       0.000000          0.000000       0.000000   \n",
       "25%         0.035900       0.034000          0.000000       0.096200   \n",
       "50%         0.047100       0.262000          0.001060       0.120000   \n",
       "75%         0.082100       0.752000          0.643000       0.227000   \n",
       "max         0.965000       0.996000          1.000000       1.000000   \n",
       "\n",
       "             valence          tempo     spec_rate  \n",
       "count  185292.000000  185292.000000  1.852920e+05  \n",
       "mean        0.449714     119.211747  4.736415e-07  \n",
       "std         0.267415      30.464650  9.181183e-07  \n",
       "min         0.000000       0.000000  0.000000e+00  \n",
       "25%         0.220000      95.067000  1.532238e-07  \n",
       "50%         0.434000     119.950000  2.342706e-07  \n",
       "75%         0.665000     138.944000  4.435727e-07  \n",
       "max         1.000000     244.947000  5.971860e-05  "
      ]
     },
     "execution_count": 5,
     "metadata": {},
     "output_type": "execute_result"
    }
   ],
   "source": [
    "X_train.describe()"
   ]
  },
  {
   "attachments": {},
   "cell_type": "markdown",
   "metadata": {},
   "source": [
    "- Controlliamo ora quante tracce appartengono ad ogni *labels*"
   ]
  },
  {
   "cell_type": "code",
   "execution_count": 7,
   "metadata": {},
   "outputs": [
    {
     "data": {
      "text/plain": [
       "1    71260\n",
       "0    54526\n",
       "2    31248\n",
       "3    28258\n",
       "Name: labels, dtype: int64"
      ]
     },
     "execution_count": 7,
     "metadata": {},
     "output_type": "execute_result"
    }
   ],
   "source": [
    "y_train.value_counts()"
   ]
  },
  {
   "cell_type": "code",
   "execution_count": 24,
   "metadata": {},
   "outputs": [
    {
     "data": {
      "image/png": "[encoded data removed]",
      "text/plain": [
       "<Figure size 640x480 with 1 Axes>"
      ]
     },
     "metadata": {},
     "output_type": "display_data"
    }
   ],
   "source": [
    "y_train.value_counts().plot.pie(labels=(\"happy\", \"sad\", \"energetic\", \"calm\"));"
   ]
  },
  {
   "attachments": {},
   "cell_type": "markdown",
   "metadata": {},
   "source": [
    "- Controlliamo ora se dalla *loudness* potrebbero esserci correlazioni più forti con *labels*"
   ]
  },
  {
   "cell_type": "code",
   "execution_count": 47,
   "metadata": {},
   "outputs": [
    {
     "data": {
      "image/png": "[encoded data removed]",
      "text/plain": [
       "<Figure size 1200x600 with 1 Axes>"
      ]
     },
     "metadata": {},
     "output_type": "display_data"
    }
   ],
   "source": [
    "songs.pivot(columns=\"labels\")[\"loudness\"].plot.hist(bins=20, stacked=True, figsize=(12, 6));"
   ]
  },
  {
   "attachments": {},
   "cell_type": "markdown",
   "metadata": {},
   "source": [
    "- Come si può notare, ad un valore di volume più basso corrispondono tendenzialmente tracce calme, mentre a valori più alti ci sono tracce principalmente felici, energetiche o tristi"
   ]
  },
  {
   "cell_type": "code",
   "execution_count": 48,
   "metadata": {},
   "outputs": [
    {
     "data": {
      "image/png": "[encoded data removed]",
      "text/plain": [
       "<Figure size 1200x600 with 1 Axes>"
      ]
     },
     "metadata": {},
     "output_type": "display_data"
    }
   ],
   "source": [
    "songs.pivot(columns=\"labels\")[\"danceability\"].plot.hist(bins=20, stacked=True, figsize=(12, 6));"
   ]
  },
  {
   "attachments": {},
   "cell_type": "markdown",
   "metadata": {},
   "source": [
    "- Con questo grafico si può invece notare come a valori di danzabilità bassi corrispondano principalmente tracce tristi o calme, mentre a valori più alti ci sono tracce felici."
   ]
  },
  {
   "attachments": {},
   "cell_type": "markdown",
   "metadata": {},
   "source": [
    "**Altre statistiche**\n",
    "\n",
    "- Se controlliamo quante sono le tracce audio più ballabili, si può intuire che molte delle tracce nel train set sono tracce musicali"
   ]
  },
  {
   "cell_type": "code",
   "execution_count": 134,
   "metadata": {},
   "outputs": [
    {
     "data": {
      "image/png": "[encoded data removed]",
      "text/plain": [
       "<Figure size 640x480 with 1 Axes>"
      ]
     },
     "metadata": {},
     "output_type": "display_data"
    }
   ],
   "source": [
    "X_train[\"danceability\"].plot.hist();"
   ]
  }
 ],
 "metadata": {
  "kernelspec": {
   "display_name": "Python 3",
   "language": "python",
   "name": "python3"
  },
  "language_info": {
   "codemirror_mode": {
    "name": "ipython",
    "version": 3
   },
   "file_extension": ".py",
   "mimetype": "text/x-python",
   "name": "python",
   "nbconvert_exporter": "python",
   "pygments_lexer": "ipython3",
   "version": "3.11.2"
  },
  "orig_nbformat": 4
 },
 "nbformat": 4,
 "nbformat_minor": 2
}
